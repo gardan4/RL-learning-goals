{
 "nbformat": 4,
 "nbformat_minor": 0,
 "metadata": {
  "colab": {
   "provenance": []
  },
  "kernelspec": {
   "name": "python3",
   "language": "python",
   "display_name": "Python 3 (ipykernel)"
  },
  "language_info": {
   "name": "python"
  }
 },
 "cells": [
  {
   "cell_type": "markdown",
   "source": [
    "# KEN4157 - Reinforcement Learning - Cliff Walking Gymnasium\n",
    "If you opened this notebook in Google Colab, we recommend to start by saving a copy of the notebook in your own Google Drive, such that you can save any of your changes and experiments."
   ],
   "metadata": {
    "id": "TZQ5cRaoNmYa"
   }
  },
  {
   "cell_type": "markdown",
   "source": [
    "## Installing & Importing Modules\n",
    "We will start by installing importing some modules that will likely be useful for your assignment(s). This includes [Gymnasium](https://gymnasium.farama.org/), which is a framework containing many popular RL environments (a successor to the original Gym API from OpenAI)."
   ],
   "metadata": {
    "id": "tiobt1sTN2hG"
   }
  },
  {
   "cell_type": "code",
   "source": [
    "!pip install gymnasium\n",
    "\n",
    "import gymnasium as gym\n",
    "import itertools\n",
    "import math\n",
    "import matplotlib\n",
    "import matplotlib.colors as colors\n",
    "import matplotlib.pyplot as plt\n",
    "from matplotlib.tri import Triangulation\n",
    "import numpy as np\n",
    "import seaborn as sns\n",
    "\n",
    "from tqdm import tqdm\n",
    "\n",
    "# Make plots look nice\n",
    "sns.set()\n",
    "sns.set_context(\"notebook\")\n",
    "sns.set_style(\"whitegrid\")"
   ],
   "metadata": {
    "id": "Jd_DIXIdN5qT",
    "colab": {
     "base_uri": "https://localhost:8080/"
    },
    "outputId": "3ddfac79-1109-44c1-e924-e8519fe17e8e",
    "ExecuteTime": {
     "end_time": "2024-04-17T15:17:20.703733800Z",
     "start_time": "2024-04-17T15:17:17.033706400Z"
    }
   },
   "execution_count": 5,
   "outputs": [
    {
     "name": "stdout",
     "output_type": "stream",
     "text": [
      "Requirement already satisfied: gymnasium in c:\\users\\m-m20\\appdata\\local\\programs\\python\\python310\\lib\\site-packages (0.29.1)"
     ]
    },
    {
     "name": "stderr",
     "output_type": "stream",
     "text": [
      "DEPRECATION: pytorch-lightning 1.6.5 has a non-standard dependency specifier torch>=1.8.*. pip 24.0 will enforce this behaviour change. A possible replacement is to upgrade to a newer version of pytorch-lightning or contact the author to suggest that they release a version with a conforming dependency specifiers. Discussion can be found at https://github.com/pypa/pip/issues/12063\n",
      "\n",
      "[notice] A new release of pip is available: 23.3.2 -> 24.0\n",
      "[notice] To update, run: C:\\Users\\m-m20\\AppData\\Local\\Programs\\Python\\Python310\\python.exe -m pip install --upgrade pip\n"
     ]
    },
    {
     "name": "stdout",
     "output_type": "stream",
     "text": [
      "\n",
      "Requirement already satisfied: numpy>=1.21.0 in c:\\users\\m-m20\\appdata\\local\\programs\\python\\python310\\lib\\site-packages (from gymnasium) (1.26.3)\n",
      "Requirement already satisfied: cloudpickle>=1.2.0 in c:\\users\\m-m20\\appdata\\local\\programs\\python\\python310\\lib\\site-packages (from gymnasium) (2.0.0)\n",
      "Requirement already satisfied: typing-extensions>=4.3.0 in c:\\users\\m-m20\\appdata\\local\\programs\\python\\python310\\lib\\site-packages (from gymnasium) (4.11.0)\n",
      "Requirement already satisfied: farama-notifications>=0.0.1 in c:\\users\\m-m20\\appdata\\local\\programs\\python\\python310\\lib\\site-packages (from gymnasium) (0.0.4)\n"
     ]
    }
   ]
  },
  {
   "cell_type": "markdown",
   "source": [
    "## Setting up the Cliff Walking Environment\n",
    "Here, we'll set up the Cliff Walking environment, and have a look at how to interact with it according to the Gym API.\n",
    "\n",
    "**Optional**:\n",
    "- For a description and documentation of the environment, see: https://gymnasium.farama.org/environments/toy_text/cliff_walking/\n",
    "- For the implementation of the environment, see: https://github.com/Farama-Foundation/Gymnasium/blob/main/gymnasium/envs/toy_text/cliffwalking.py"
   ],
   "metadata": {
    "id": "9J790RSkOXIH"
   }
  },
  {
   "cell_type": "code",
   "source": [
    "env = gym.make('CliffWalking-v0')\n",
    "\n",
    "action_space = env.action_space\n",
    "obs_space = env.observation_space\n",
    "\n",
    "# We'll define a few strings here, because proper names are sometimes nicer\n",
    "# to work with (print) than arbitrary indices\n",
    "ACTION_NAMES = [\"Move Up\", \"Move Right\", \"Move Down\", \"Move Left\"]\n",
    "\n",
    "print(f\"There are {action_space.n} different actions in this environment.\")\n",
    "for i in range(action_space.n):\n",
    "  print(f\"Action {i} = {ACTION_NAMES[i]}\")\n",
    "print(f\"There are {obs_space.n} discrete states in this environment.\")"
   ],
   "metadata": {
    "id": "XKhcxGIpnEkB",
    "colab": {
     "base_uri": "https://localhost:8080/"
    },
    "outputId": "01030ede-fdda-42cf-c3fe-fa09222ebef0",
    "ExecuteTime": {
     "end_time": "2024-04-17T15:17:20.828914900Z",
     "start_time": "2024-04-17T15:17:20.702743800Z"
    }
   },
   "execution_count": 6,
   "outputs": [
    {
     "name": "stdout",
     "output_type": "stream",
     "text": [
      "There are 4 different actions in this environment.\n",
      "Action 0 = Move Up\n",
      "Action 1 = Move Right\n",
      "Action 2 = Move Down\n",
      "Action 3 = Move Left\n",
      "There are 48 discrete states in this environment.\n"
     ]
    }
   ]
  },
  {
   "cell_type": "markdown",
   "source": [
    "## Visualisation Code\n",
    "Some functions here that let us nicely visualise Q-value tables for the Cliff Walking environment. No need to touch any of this, but you should run the code block, such that you can use the functions later on."
   ],
   "metadata": {
    "id": "_t_13siu9rNL"
   }
  },
  {
   "cell_type": "code",
   "source": [
    "# Thanks to: https://stackoverflow.com/a/66050636/6735980\n",
    "def triangulation_for_triheatmap(num_cols, num_rows):\n",
    "    xv, yv = np.meshgrid(np.arange(-0.5, num_cols), np.arange(-0.5, num_rows))  # vertices of the little squares\n",
    "    xc, yc = np.meshgrid(np.arange(0, num_cols), np.arange(0, num_rows))  # centers of the little squares\n",
    "    x = np.concatenate([xv.ravel(), xc.ravel()])\n",
    "    y = np.concatenate([yv.ravel(), yc.ravel()])\n",
    "    cstart = (num_cols + 1) * (num_rows + 1)  # indices of the centers\n",
    "\n",
    "    trianglesN = [(i + j * (num_cols + 1), i + 1 + j * (num_cols + 1), cstart + i + j * num_cols)\n",
    "                  for j in range(num_rows) for i in range(num_cols)]\n",
    "    trianglesE = [(i + 1 + j * (num_cols + 1), i + 1 + (j + 1) * (num_cols + 1), cstart + i + j * num_cols)\n",
    "                  for j in range(num_rows) for i in range(num_cols)]\n",
    "    trianglesS = [(i + 1 + (j + 1) * (num_cols + 1), i + (j + 1) * (num_cols + 1), cstart + i + j * num_cols)\n",
    "                  for j in range(num_rows) for i in range(num_cols)]\n",
    "    trianglesW = [(i + (j + 1) * (num_cols + 1), i + j * (num_cols + 1), cstart + i + j * num_cols)\n",
    "                  for j in range(num_rows) for i in range(num_cols)]\n",
    "    return [Triangulation(x, y, triangles) for triangles in [trianglesN, trianglesE, trianglesS, trianglesW]]\n",
    "\n",
    "# Thanks to: https://stackoverflow.com/a/66050636/6735980\n",
    "def create_qvals_heatmap(q_vals_up, q_vals_right, q_vals_down, q_vals_left):\n",
    "    NUM_COLS = 12\n",
    "    NUM_ROWS = 4\n",
    "\n",
    "    values = [q_vals_up, q_vals_right, q_vals_down, q_vals_left]\n",
    "    triangul = triangulation_for_triheatmap(NUM_COLS, NUM_ROWS)\n",
    "    fig, ax = plt.subplots()\n",
    "\n",
    "    imgs = [ax.tripcolor(t, val.ravel(), cmap='RdYlGn',\n",
    "                        norm=colors.SymLogNorm(linthresh=20.0, linscale=1.0,\n",
    "                                               vmin=np.min(values),\n",
    "                                               vmax=np.max(values), base=10)\n",
    "                        )\n",
    "            for t, val in zip(triangul, values)]\n",
    "    cbar = fig.colorbar(imgs[0], ax=ax)\n",
    "\n",
    "    ax.set_xticks(range(NUM_COLS))\n",
    "    ax.set_yticks(range(NUM_ROWS))\n",
    "    ax.invert_yaxis()\n",
    "    ax.margins(x=0, y=0)\n",
    "    ax.set_aspect('equal', 'box')  # square cells\n",
    "    plt.tight_layout()\n",
    "    plt.show()\n",
    "\n",
    "def plot_returns_per_episode(returns_per_episode):\n",
    "    fig, ax = plt.subplots()\n",
    "    plt.plot([episode for episode in range(len(returns_per_episode))], returns_per_episode, label=\"Returns per Episode\")\n",
    "    ax.set_xlabel(\"Episode\")\n",
    "    ax.set_ylabel(f\"Returns\")\n",
    "    ax.legend()\n",
    "    plt.show()"
   ],
   "metadata": {
    "id": "lHdos1Eo92jZ",
    "ExecuteTime": {
     "end_time": "2024-04-17T15:17:20.832018Z",
     "start_time": "2024-04-17T15:17:20.753733400Z"
    }
   },
   "execution_count": 7,
   "outputs": []
  },
  {
   "cell_type": "markdown",
   "source": [
    "## Random Value Function & Policy\n",
    "In the below code block, we'll:\n",
    "- fill up a Q(s, a) table with completely random numbers\n",
    "- run through a bunch of steps with a random policy\n",
    "- demonstrate how the above functions can be used to visualise this random Q-table and policy\n",
    "\n",
    "Afterwards, you can implement your own (non-random) algorithms and use the plotting functions in the same way."
   ],
   "metadata": {
    "id": "mP1Q1hoSBSNe"
   }
  },
  {
   "cell_type": "code",
   "source": [
    "random_q_table = np.random.random((obs_space.n, action_space.n))\n",
    "returns_per_episode = []\n",
    "\n",
    "observation, info = env.reset()\n",
    "current_episode_returns = 0.0\n",
    "\n",
    "for step in tqdm(range(100_000)):\n",
    "    action = action_space.sample()\n",
    "\n",
    "    new_obs, reward, terminated, truncated, info = env.step(action)\n",
    "    current_episode_returns = current_episode_returns + reward\n",
    "\n",
    "    if terminated or truncated:\n",
    "        # episode ended: store data and reset to new episode\n",
    "        returns_per_episode.append(current_episode_returns)\n",
    "        current_episode_returns = 0.0\n",
    "        observation, info = env.reset()\n",
    "    else:\n",
    "        observation = new_obs\n",
    "\n",
    "# Plot returns we got for each completed episode\n",
    "plot_returns_per_episode(returns_per_episode)\n",
    "\n",
    "# Plot heatmap from our Q-table (which in this case is just random numbers)\n",
    "q_vals_up = random_q_table[:, 0]\n",
    "q_vals_right = random_q_table[:, 1]\n",
    "q_vals_down = random_q_table[:, 2]\n",
    "q_vals_left = random_q_table[:, 3]\n",
    "create_qvals_heatmap(q_vals_up, q_vals_right, q_vals_down, q_vals_left)"
   ],
   "metadata": {
    "id": "nbCb42nDHIRn",
    "ExecuteTime": {
     "end_time": "2024-04-17T15:17:25.573172900Z",
     "start_time": "2024-04-17T15:17:20.781730500Z"
    }
   },
   "execution_count": 8,
   "outputs": [
    {
     "name": "stderr",
     "output_type": "stream",
     "text": [
      "100%|██████████| 100000/100000 [00:04<00:00, 24682.66it/s]\n"
     ]
    },
    {
     "data": {
      "text/plain": "<Figure size 432x288 with 1 Axes>",
      "image/png": "[encoded data removed]"
     },
     "metadata": {},
     "output_type": "display_data"
    },
    {
     "name": "stderr",
     "output_type": "stream",
     "text": [
      "C:\\Users\\m-m20\\AppData\\Local\\Temp\\ipykernel_4456\\3126159575.py:34: MatplotlibDeprecationWarning: Auto-removal of grids by pcolor() and pcolormesh() is deprecated since 3.5 and will be removed two minor releases later; please call grid(False) first.\n",
      "  cbar = fig.colorbar(imgs[0], ax=ax)\n"
     ]
    },
    {
     "data": {
      "text/plain": "<Figure size 432x288 with 2 Axes>",
      "image/png": "[encoded data removed]"
     },
     "metadata": {},
     "output_type": "display_data"
    }
   ]
  },
  {
   "cell_type": "markdown",
   "source": [
    "## Your Code\n",
    "Your own code should probably go below here!"
   ],
   "metadata": {
    "id": "VNe_GhVmJJkm"
   }
  },
  {
   "cell_type": "code",
   "execution_count": 11,
   "outputs": [
    {
     "name": "stderr",
     "output_type": "stream",
     "text": [
      "  0%|          | 0/1000 [00:00<?, ?it/s]\n"
     ]
    },
    {
     "ename": "IndexError",
     "evalue": "only integers, slices (`:`), ellipsis (`...`), numpy.newaxis (`None`) and integer or boolean arrays are valid indices",
     "output_type": "error",
     "traceback": [
      "\u001B[1;31m---------------------------------------------------------------------------\u001B[0m",
      "\u001B[1;31mIndexError\u001B[0m                                Traceback (most recent call last)",
      "\u001B[1;32m~\\AppData\\Local\\Temp\\ipykernel_4456\\1565346857.py\u001B[0m in \u001B[0;36m<module>\u001B[1;34m\u001B[0m\n\u001B[0;32m     31\u001B[0m \u001B[1;33m\u001B[0m\u001B[0m\n\u001B[0;32m     32\u001B[0m     \u001B[1;32mwhile\u001B[0m \u001B[1;32mTrue\u001B[0m\u001B[1;33m:\u001B[0m\u001B[1;33m\u001B[0m\u001B[1;33m\u001B[0m\u001B[0m\n\u001B[1;32m---> 33\u001B[1;33m         \u001B[0maction\u001B[0m \u001B[1;33m=\u001B[0m \u001B[0mchoose_action\u001B[0m\u001B[1;33m(\u001B[0m\u001B[0mstate\u001B[0m\u001B[1;33m,\u001B[0m \u001B[0mq_table\u001B[0m\u001B[1;33m,\u001B[0m \u001B[0mepsilon\u001B[0m\u001B[1;33m)\u001B[0m  \u001B[1;31m# Choose an action\u001B[0m\u001B[1;33m\u001B[0m\u001B[1;33m\u001B[0m\u001B[0m\n\u001B[0m\u001B[0;32m     34\u001B[0m         \u001B[0mnext_state\u001B[0m\u001B[1;33m,\u001B[0m \u001B[0mreward\u001B[0m\u001B[1;33m,\u001B[0m \u001B[0mdone\u001B[0m\u001B[1;33m,\u001B[0m \u001B[0m_\u001B[0m\u001B[1;33m,\u001B[0m \u001B[0m_\u001B[0m \u001B[1;33m=\u001B[0m \u001B[0menv\u001B[0m\u001B[1;33m.\u001B[0m\u001B[0mstep\u001B[0m\u001B[1;33m(\u001B[0m\u001B[0maction\u001B[0m\u001B[1;33m)\u001B[0m  \u001B[1;31m# Take the action and observe the outcome\u001B[0m\u001B[1;33m\u001B[0m\u001B[1;33m\u001B[0m\u001B[0m\n\u001B[0;32m     35\u001B[0m \u001B[1;33m\u001B[0m\u001B[0m\n",
      "\u001B[1;32m~\\AppData\\Local\\Temp\\ipykernel_4456\\1565346857.py\u001B[0m in \u001B[0;36mchoose_action\u001B[1;34m(state, q_table, epsilon)\u001B[0m\n\u001B[0;32m     21\u001B[0m         \u001B[1;32mreturn\u001B[0m \u001B[0maction_space\u001B[0m\u001B[1;33m.\u001B[0m\u001B[0msample\u001B[0m\u001B[1;33m(\u001B[0m\u001B[1;33m)\u001B[0m  \u001B[1;31m# Explore: random action\u001B[0m\u001B[1;33m\u001B[0m\u001B[1;33m\u001B[0m\u001B[0m\n\u001B[0;32m     22\u001B[0m     \u001B[1;32melse\u001B[0m\u001B[1;33m:\u001B[0m\u001B[1;33m\u001B[0m\u001B[1;33m\u001B[0m\u001B[0m\n\u001B[1;32m---> 23\u001B[1;33m         \u001B[1;32mreturn\u001B[0m \u001B[0mnp\u001B[0m\u001B[1;33m.\u001B[0m\u001B[0margmax\u001B[0m\u001B[1;33m(\u001B[0m\u001B[0mq_table\u001B[0m\u001B[1;33m[\u001B[0m\u001B[0mstate\u001B[0m\u001B[1;33m]\u001B[0m\u001B[1;33m)\u001B[0m  \u001B[1;31m# Exploit: best action based on current Q-values\u001B[0m\u001B[1;33m\u001B[0m\u001B[1;33m\u001B[0m\u001B[0m\n\u001B[0m\u001B[0;32m     24\u001B[0m \u001B[1;33m\u001B[0m\u001B[0m\n\u001B[0;32m     25\u001B[0m \u001B[1;31m# Q-learning algorithm\u001B[0m\u001B[1;33m\u001B[0m\u001B[1;33m\u001B[0m\u001B[0m\n",
      "\u001B[1;31mIndexError\u001B[0m: only integers, slices (`:`), ellipsis (`...`), numpy.newaxis (`None`) and integer or boolean arrays are valid indices"
     ]
    }
   ],
   "source": [
    "# Continuing from the existing code, we implement the Q-learning algorithm.\n",
    "\n",
    "# Note: The environment should already be defined as `env` from the previous code.\n",
    "# The ACTION_NAMES constant should also be available.\n",
    "\n",
    "# Import additional libraries if necessary (it seems all necessary imports are done in the provided code)\n",
    "import random\n",
    "\n",
    "# Parameters for Q-learning\n",
    "alpha = 0.1  # Learning rate\n",
    "gamma = 0.9  # Discount factor\n",
    "epsilon = 0.1  # Exploration rate\n",
    "num_episodes = 1000  # Number of episodes for training\n",
    "\n",
    "# Initialize Q-table\n",
    "q_table = np.zeros((obs_space.n, action_space.n))\n",
    "\n",
    "# Function to choose an action using an epsilon-greedy policy\n",
    "def choose_action(state, q_table, epsilon):\n",
    "    if random.uniform(0, 1) < epsilon:\n",
    "        return action_space.sample()  # Explore: random action\n",
    "    else:\n",
    "        return np.argmax(q_table[state])  # Exploit: best action based on current Q-values\n",
    "\n",
    "# Q-learning algorithm\n",
    "returns_per_episode = []  # List to keep track of the total reward per episode\n",
    "\n",
    "for episode in tqdm(range(num_episodes)):\n",
    "    state = env.reset()  # Start a new episode and get the initial state\n",
    "    total_reward = 0  # Reset total reward for the episode\n",
    "    \n",
    "    while True:\n",
    "        action = choose_action(state, q_table, epsilon)  # Choose an action\n",
    "        next_state, reward, done, _, _ = env.step(action)  # Take the action and observe the outcome\n",
    "        \n",
    "        # Q-learning update rule\n",
    "        td_target = reward + gamma * np.max(q_table[next_state])\n",
    "        td_error = td_target - q_table[state, action]\n",
    "        q_table[state, action] += alpha * td_error\n",
    "        \n",
    "        state = next_state  # Update the state\n",
    "        total_reward += reward  # Update the total reward\n",
    "        \n",
    "        if done:\n",
    "            break  # End the episode if the state is terminal\n",
    "            \n",
    "    returns_per_episode.append(total_reward)  # Store the total reward for the episode\n",
    "\n",
    "# Now that the training is done, we can use the trained Q-table to act in the environment\n",
    "# but here we just plot the training progress and the final Q-values heatmap.\n",
    "\n",
    "# Plot returns we got for each completed episode\n",
    "plot_returns_per_episode(returns_per_episode)\n",
    "\n",
    "# Plot heatmap from our trained Q-table\n",
    "q_vals_up = q_table[:, 0]\n",
    "q_vals_right = q_table[:, 1]\n",
    "q_vals_down = q_table[:, 2]\n",
    "q_vals_left = q_table[:, 3]\n",
    "create_qvals_heatmap(q_vals_up, q_vals_right, q_vals_down, q_vals_left)\n"
   ],
   "metadata": {
    "collapsed": false,
    "ExecuteTime": {
     "end_time": "2024-04-17T15:20:33.341041400Z",
     "start_time": "2024-04-17T15:20:33.187037100Z"
    }
   }
  },
  {
   "cell_type": "code",
   "execution_count": 10,
   "outputs": [
    {
     "ename": "IndexError",
     "evalue": "only integers, slices (`:`), ellipsis (`...`), numpy.newaxis (`None`) and integer or boolean arrays are valid indices",
     "output_type": "error",
     "traceback": [
      "\u001B[1;31m---------------------------------------------------------------------------\u001B[0m",
      "\u001B[1;31mIndexError\u001B[0m                                Traceback (most recent call last)",
      "\u001B[1;32m~\\AppData\\Local\\Temp\\ipykernel_4456\\2084047230.py\u001B[0m in \u001B[0;36m<module>\u001B[1;34m\u001B[0m\n\u001B[0;32m      5\u001B[0m \u001B[0mepsilon\u001B[0m \u001B[1;33m=\u001B[0m \u001B[1;36m0.1\u001B[0m\u001B[1;33m\u001B[0m\u001B[1;33m\u001B[0m\u001B[0m\n\u001B[0;32m      6\u001B[0m \u001B[1;33m\u001B[0m\u001B[0m\n\u001B[1;32m----> 7\u001B[1;33m \u001B[0mQ\u001B[0m \u001B[1;33m=\u001B[0m \u001B[0mq_learning\u001B[0m\u001B[1;33m(\u001B[0m\u001B[0menv\u001B[0m\u001B[1;33m,\u001B[0m \u001B[0mnum_episodes\u001B[0m\u001B[1;33m,\u001B[0m \u001B[0malpha\u001B[0m\u001B[1;33m,\u001B[0m \u001B[0mgamma\u001B[0m\u001B[1;33m,\u001B[0m \u001B[0mepsilon\u001B[0m\u001B[1;33m)\u001B[0m\u001B[1;33m\u001B[0m\u001B[1;33m\u001B[0m\u001B[0m\n\u001B[0m\u001B[0;32m      8\u001B[0m \u001B[1;33m\u001B[0m\u001B[0m\n\u001B[0;32m      9\u001B[0m \u001B[1;31m# Plot heatmap from our Q-table\u001B[0m\u001B[1;33m\u001B[0m\u001B[1;33m\u001B[0m\u001B[0m\n",
      "\u001B[1;32m~\\AppData\\Local\\Temp\\ipykernel_4456\\4266206253.py\u001B[0m in \u001B[0;36mq_learning\u001B[1;34m(env, num_episodes, alpha, gamma, epsilon)\u001B[0m\n\u001B[0;32m     14\u001B[0m                 \u001B[0maction\u001B[0m \u001B[1;33m=\u001B[0m \u001B[0menv\u001B[0m\u001B[1;33m.\u001B[0m\u001B[0maction_space\u001B[0m\u001B[1;33m.\u001B[0m\u001B[0msample\u001B[0m\u001B[1;33m(\u001B[0m\u001B[1;33m)\u001B[0m  \u001B[1;31m# Explore action space\u001B[0m\u001B[1;33m\u001B[0m\u001B[1;33m\u001B[0m\u001B[0m\n\u001B[0;32m     15\u001B[0m             \u001B[1;32melse\u001B[0m\u001B[1;33m:\u001B[0m\u001B[1;33m\u001B[0m\u001B[1;33m\u001B[0m\u001B[0m\n\u001B[1;32m---> 16\u001B[1;33m                 \u001B[0maction\u001B[0m \u001B[1;33m=\u001B[0m \u001B[0mnp\u001B[0m\u001B[1;33m.\u001B[0m\u001B[0margmax\u001B[0m\u001B[1;33m(\u001B[0m\u001B[0mQ\u001B[0m\u001B[1;33m[\u001B[0m\u001B[0mstate\u001B[0m\u001B[1;33m]\u001B[0m\u001B[1;33m)\u001B[0m  \u001B[1;31m# Exploit learned values\u001B[0m\u001B[1;33m\u001B[0m\u001B[1;33m\u001B[0m\u001B[0m\n\u001B[0m\u001B[0;32m     17\u001B[0m \u001B[1;33m\u001B[0m\u001B[0m\n\u001B[0;32m     18\u001B[0m             \u001B[1;31m# Take action A, observe R, S'\u001B[0m\u001B[1;33m\u001B[0m\u001B[1;33m\u001B[0m\u001B[0m\n",
      "\u001B[1;31mIndexError\u001B[0m: only integers, slices (`:`), ellipsis (`...`), numpy.newaxis (`None`) and integer or boolean arrays are valid indices"
     ]
    }
   ],
   "source": [],
   "metadata": {
    "collapsed": false,
    "ExecuteTime": {
     "end_time": "2024-04-17T15:17:26.305071600Z",
     "start_time": "2024-04-17T15:17:25.584164500Z"
    }
   }
  }
 ]
}
